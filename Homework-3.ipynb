{
 "cells": [
  {
   "cell_type": "markdown",
   "metadata": {},
   "source": [
    "##Homework-3\n",
    "##UCID - nr475"
   ]
  },
  {
   "cell_type": "code",
   "execution_count": 7,
   "metadata": {},
   "outputs": [],
   "source": [
    "library(readr)\n",
    "library(dplyr)"
   ]
  },
  {
   "cell_type": "code",
   "execution_count": 3,
   "metadata": {},
   "outputs": [],
   "source": [
    "setwd(\"/Users/naveenrowthula/Downloads/R Programming\")"
   ]
  },
  {
   "cell_type": "code",
   "execution_count": 4,
   "metadata": {},
   "outputs": [
    {
     "ename": "ERROR",
     "evalue": "Error in read_csv(file = \"IBM.csv\", col_types = cols()): could not find function \"read_csv\"\n",
     "output_type": "error",
     "traceback": [
      "Error in read_csv(file = \"IBM.csv\", col_types = cols()): could not find function \"read_csv\"\nTraceback:\n"
     ]
    }
   ],
   "source": [
    "IBM=read_csv(file='IBM.csv',col_types = cols())\n",
    "MSFT=read_csv(file='MSFT.csv',col_types = cols())\n",
    "GOOG=read_csv(file='GOOG.csv',col_types = cols())\n",
    "AAPL=read_csv(file='AAPL.csv',col_types = cols())\n",
    "AMZN=read_csv(file='AMZN.csv',col_types = cols())\n",
    "FB=read_csv(file='FB.csv',col_types = cols())"
   ]
  },
  {
   "cell_type": "code",
   "execution_count": 10,
   "metadata": {},
   "outputs": [],
   "source": [
    "Divid=function(x)\n",
    "{   \n",
    "    data_set=x[,c(1,5,6)]\n",
    "    data_set$differnce1=data_set$Close -lag(data_set$Close,1)\n",
    "    data_set$differnce2=data_set$'Adj Close' -lag(data_set$'Adj Close',1)\n",
    "    data_set=mutate(data_set,differnce=data_set$differnce1-data_set$differnce2)\n",
    "    data_set=mutate(data_set,Divid=data_set$differnce*data_set$Close)\n",
    "    data_set=subset(data_set,(Divid!='0'))\n",
    "    data_set[,c(1,7)]\n",
    "}"
   ]
  },
  {
   "cell_type": "code",
   "execution_count": 11,
   "metadata": {},
   "outputs": [],
   "source": [
    "ibm=Divid(IBM)\n",
    "msft=Divid(MSFT)\n",
    "goog=Divid(GOOG)\n",
    "aapl=Divid(AAPL)\n",
    "amzn=Divid(AMZN)\n",
    "fb=Divid(FB)"
   ]
  },
  {
   "cell_type": "code",
   "execution_count": 14,
   "metadata": {},
   "outputs": [
    {
     "data": {
      "text/html": [
       "'IBM'"
      ],
      "text/latex": [
       "'IBM'"
      ],
      "text/markdown": [
       "'IBM'"
      ],
      "text/plain": [
       "[1] \"IBM\""
      ]
     },
     "metadata": {},
     "output_type": "display_data"
    },
    {
     "data": {
      "text/html": [
       "<table>\n",
       "<thead><tr><th scope=col>Date</th><th scope=col>Divid</th></tr></thead>\n",
       "<tbody>\n",
       "\t<tr><td>2018-01-03</td><td>80.616100 </td></tr>\n",
       "\t<tr><td>2018-01-04</td><td>62.278430 </td></tr>\n",
       "\t<tr><td>2018-01-05</td><td>15.399503 </td></tr>\n",
       "\t<tr><td>2018-01-08</td><td>19.219005 </td></tr>\n",
       "\t<tr><td>2018-01-09</td><td> 7.079586 </td></tr>\n",
       "\t<tr><td>2018-01-10</td><td> 6.896873 </td></tr>\n",
       "</tbody>\n",
       "</table>\n"
      ],
      "text/latex": [
       "\\begin{tabular}{r|ll}\n",
       " Date & Divid\\\\\n",
       "\\hline\n",
       "\t 2018-01-03 & 80.616100 \\\\\n",
       "\t 2018-01-04 & 62.278430 \\\\\n",
       "\t 2018-01-05 & 15.399503 \\\\\n",
       "\t 2018-01-08 & 19.219005 \\\\\n",
       "\t 2018-01-09 &  7.079586 \\\\\n",
       "\t 2018-01-10 &  6.896873 \\\\\n",
       "\\end{tabular}\n"
      ],
      "text/markdown": [
       "\n",
       "| Date | Divid |\n",
       "|---|---|\n",
       "| 2018-01-03 | 80.616100  |\n",
       "| 2018-01-04 | 62.278430  |\n",
       "| 2018-01-05 | 15.399503  |\n",
       "| 2018-01-08 | 19.219005  |\n",
       "| 2018-01-09 |  7.079586  |\n",
       "| 2018-01-10 |  6.896873  |\n",
       "\n"
      ],
      "text/plain": [
       "  Date       Divid    \n",
       "1 2018-01-03 80.616100\n",
       "2 2018-01-04 62.278430\n",
       "3 2018-01-05 15.399503\n",
       "4 2018-01-08 19.219005\n",
       "5 2018-01-09  7.079586\n",
       "6 2018-01-10  6.896873"
      ]
     },
     "metadata": {},
     "output_type": "display_data"
    },
    {
     "data": {
      "text/html": [
       "'MSFT'"
      ],
      "text/latex": [
       "'MSFT'"
      ],
      "text/markdown": [
       "'MSFT'"
      ],
      "text/plain": [
       "[1] \"MSFT\""
      ]
     },
     "metadata": {},
     "output_type": "display_data"
    },
    {
     "data": {
      "text/html": [
       "<table>\n",
       "<thead><tr><th scope=col>Date</th><th scope=col>Divid</th></tr></thead>\n",
       "<tbody>\n",
       "\t<tr><td>2018-01-03</td><td> 1.346456 </td></tr>\n",
       "\t<tr><td>2018-01-04</td><td> 2.579414 </td></tr>\n",
       "\t<tr><td>2018-01-05</td><td> 3.713328 </td></tr>\n",
       "\t<tr><td>2018-01-08</td><td> 0.311187 </td></tr>\n",
       "\t<tr><td>2018-01-09</td><td>-0.207317 </td></tr>\n",
       "\t<tr><td>2018-01-10</td><td>-1.370168 </td></tr>\n",
       "</tbody>\n",
       "</table>\n"
      ],
      "text/latex": [
       "\\begin{tabular}{r|ll}\n",
       " Date & Divid\\\\\n",
       "\\hline\n",
       "\t 2018-01-03 &  1.346456 \\\\\n",
       "\t 2018-01-04 &  2.579414 \\\\\n",
       "\t 2018-01-05 &  3.713328 \\\\\n",
       "\t 2018-01-08 &  0.311187 \\\\\n",
       "\t 2018-01-09 & -0.207317 \\\\\n",
       "\t 2018-01-10 & -1.370168 \\\\\n",
       "\\end{tabular}\n"
      ],
      "text/markdown": [
       "\n",
       "| Date | Divid |\n",
       "|---|---|\n",
       "| 2018-01-03 |  1.346456  |\n",
       "| 2018-01-04 |  2.579414  |\n",
       "| 2018-01-05 |  3.713328  |\n",
       "| 2018-01-08 |  0.311187  |\n",
       "| 2018-01-09 | -0.207317  |\n",
       "| 2018-01-10 | -1.370168  |\n",
       "\n"
      ],
      "text/plain": [
       "  Date       Divid    \n",
       "1 2018-01-03  1.346456\n",
       "2 2018-01-04  2.579414\n",
       "3 2018-01-05  3.713328\n",
       "4 2018-01-08  0.311187\n",
       "5 2018-01-09 -0.207317\n",
       "6 2018-01-10 -1.370168"
      ]
     },
     "metadata": {},
     "output_type": "display_data"
    },
    {
     "data": {
      "text/html": [
       "'GOOG'"
      ],
      "text/latex": [
       "'GOOG'"
      ],
      "text/markdown": [
       "'GOOG'"
      ],
      "text/plain": [
       "[1] \"GOOG\""
      ]
     },
     "metadata": {},
     "output_type": "display_data"
    },
    {
     "data": {
      "text/html": [
       "<table>\n",
       "<thead><tr><th scope=col>Date</th><th scope=col>Divid</th></tr></thead>\n",
       "<tbody>\n",
       "</tbody>\n",
       "</table>\n"
      ],
      "text/latex": [
       "\\begin{tabular}{r|ll}\n",
       " Date & Divid\\\\\n",
       "\\hline\n",
       "\\end{tabular}\n"
      ],
      "text/markdown": [
       "\n",
       "| Date | Divid |\n",
       "|---|---|\n",
       "\n"
      ],
      "text/plain": [
       "     Date Divid"
      ]
     },
     "metadata": {},
     "output_type": "display_data"
    },
    {
     "data": {
      "text/html": [
       "'AAPL'"
      ],
      "text/latex": [
       "'AAPL'"
      ],
      "text/markdown": [
       "'AAPL'"
      ],
      "text/plain": [
       "[1] \"AAPL\""
      ]
     },
     "metadata": {},
     "output_type": "display_data"
    },
    {
     "data": {
      "text/html": [
       "<table>\n",
       "<thead><tr><th scope=col>Date</th><th scope=col>Divid</th></tr></thead>\n",
       "<tbody>\n",
       "\t<tr><td>2018-01-03 </td><td>-0.01136718</td></tr>\n",
       "\t<tr><td>2018-01-04 </td><td> 0.31171354</td></tr>\n",
       "\t<tr><td>2018-01-05 </td><td> 0.77638750</td></tr>\n",
       "\t<tr><td>2018-01-08 </td><td>-0.25537917</td></tr>\n",
       "\t<tr><td>2018-01-09 </td><td>-0.00784485</td></tr>\n",
       "\t<tr><td>2018-01-10 </td><td>-0.01594753</td></tr>\n",
       "</tbody>\n",
       "</table>\n"
      ],
      "text/latex": [
       "\\begin{tabular}{r|ll}\n",
       " Date & Divid\\\\\n",
       "\\hline\n",
       "\t 2018-01-03  & -0.01136718\\\\\n",
       "\t 2018-01-04  &  0.31171354\\\\\n",
       "\t 2018-01-05  &  0.77638750\\\\\n",
       "\t 2018-01-08  & -0.25537917\\\\\n",
       "\t 2018-01-09  & -0.00784485\\\\\n",
       "\t 2018-01-10  & -0.01594753\\\\\n",
       "\\end{tabular}\n"
      ],
      "text/markdown": [
       "\n",
       "| Date | Divid |\n",
       "|---|---|\n",
       "| 2018-01-03  | -0.01136718 |\n",
       "| 2018-01-04  |  0.31171354 |\n",
       "| 2018-01-05  |  0.77638750 |\n",
       "| 2018-01-08  | -0.25537917 |\n",
       "| 2018-01-09  | -0.00784485 |\n",
       "| 2018-01-10  | -0.01594753 |\n",
       "\n"
      ],
      "text/plain": [
       "  Date       Divid      \n",
       "1 2018-01-03 -0.01136718\n",
       "2 2018-01-04  0.31171354\n",
       "3 2018-01-05  0.77638750\n",
       "4 2018-01-08 -0.25537917\n",
       "5 2018-01-09 -0.00784485\n",
       "6 2018-01-10 -0.01594753"
      ]
     },
     "metadata": {},
     "output_type": "display_data"
    },
    {
     "data": {
      "text/html": [
       "'AMZN'"
      ],
      "text/latex": [
       "'AMZN'"
      ],
      "text/markdown": [
       "'AMZN'"
      ],
      "text/plain": [
       "[1] \"AMZN\""
      ]
     },
     "metadata": {},
     "output_type": "display_data"
    },
    {
     "data": {
      "text/html": [
       "<table>\n",
       "<thead><tr><th scope=col>Date</th><th scope=col>Divid</th></tr></thead>\n",
       "<tbody>\n",
       "</tbody>\n",
       "</table>\n"
      ],
      "text/latex": [
       "\\begin{tabular}{r|ll}\n",
       " Date & Divid\\\\\n",
       "\\hline\n",
       "\\end{tabular}\n"
      ],
      "text/markdown": [
       "\n",
       "| Date | Divid |\n",
       "|---|---|\n",
       "\n"
      ],
      "text/plain": [
       "     Date Divid"
      ]
     },
     "metadata": {},
     "output_type": "display_data"
    },
    {
     "data": {
      "text/html": [
       "'FB'"
      ],
      "text/latex": [
       "'FB'"
      ],
      "text/markdown": [
       "'FB'"
      ],
      "text/plain": [
       "[1] \"FB\""
      ]
     },
     "metadata": {},
     "output_type": "display_data"
    },
    {
     "data": {
      "text/html": [
       "<table>\n",
       "<thead><tr><th scope=col>Date</th><th scope=col>Divid</th></tr></thead>\n",
       "<tbody>\n",
       "</tbody>\n",
       "</table>\n"
      ],
      "text/latex": [
       "\\begin{tabular}{r|ll}\n",
       " Date & Divid\\\\\n",
       "\\hline\n",
       "\\end{tabular}\n"
      ],
      "text/markdown": [
       "\n",
       "| Date | Divid |\n",
       "|---|---|\n",
       "\n"
      ],
      "text/plain": [
       "     Date Divid"
      ]
     },
     "metadata": {},
     "output_type": "display_data"
    }
   ],
   "source": [
    "'IBM'\n",
    "head(ibm)\n",
    "'MSFT'\n",
    "head(msft)\n",
    "'GOOG'\n",
    "head(goog)\n",
    "'AAPL'\n",
    "head(aapl)\n",
    "'AMZN'\n",
    "head(amzn)\n",
    "'FB'\n",
    "head(fb)"
   ]
  },
  {
   "cell_type": "code",
   "execution_count": null,
   "metadata": {},
   "outputs": [],
   "source": []
  }
 ],
 "metadata": {
  "kernelspec": {
   "display_name": "R",
   "language": "R",
   "name": "ir"
  },
  "language_info": {
   "codemirror_mode": "r",
   "file_extension": ".r",
   "mimetype": "text/x-r-source",
   "name": "R",
   "pygments_lexer": "r",
   "version": "3.6.1"
  }
 },
 "nbformat": 4,
 "nbformat_minor": 4
}
